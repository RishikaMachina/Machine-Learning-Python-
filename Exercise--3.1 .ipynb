{
 "cells": [
  {
   "cell_type": "markdown",
   "metadata": {},
   "source": [
    "## 3.1 (A) Running PLA starting from w=0, till it converges"
   ]
  },
  {
   "cell_type": "markdown",
   "metadata": {},
   "source": [
    "### creating double semi circle data "
   ]
  },
  {
   "cell_type": "code",
   "execution_count": 1,
   "metadata": {},
   "outputs": [],
   "source": [
    "import numpy as np\n",
    "\n",
    "#parameters\n",
    "rad = 10\n",
    "thk = 5\n",
    "sep = 5\n",
    "\n",
    "#n data points,(x1,y1) are the coordinates of the top semi-circle\n",
    "def generatedata(rad,thk,sep,n,x1=0,y1=0):\n",
    "    # center of the top semi-circle\n",
    "    X1 = x1\n",
    "    Y1 = y1\n",
    "\n",
    "    # center of the bottom semi-circle\n",
    "    X2 = X1 + rad + thk / 2\n",
    "    Y2 = Y1 - sep\n",
    "    \n",
    "    # data points in the top semi-circle\n",
    "    top = []\n",
    "    # data points in the bottom semi-circle\n",
    "    bottom = []\n",
    "    \n",
    "    # parameters\n",
    "    r1 = rad + thk\n",
    "    r2 = rad\n",
    "    \n",
    "    cnt = 1\n",
    "    while(cnt <= n):\n",
    "        #uniformed generated points\n",
    "        x = np.random.uniform(-r1,r1)\n",
    "        y = np.random.uniform(-r1,r1)\n",
    "        \n",
    "        d = x**2 + y**2\n",
    "        if(d >= r2**2 and d <= r1**2):\n",
    "            if (y > 0):\n",
    "                top.append([X1 + x,Y1 + y])\n",
    "                cnt += 1\n",
    "            else:\n",
    "                bottom.append([X2 + x,Y2 + y])\n",
    "                cnt += 1\n",
    "        else:\n",
    "            continue\n",
    "\n",
    "    return top,bottom"
   ]
  },
  {
   "cell_type": "markdown",
   "metadata": {},
   "source": [
    "### Plotting the data "
   ]
  },
  {
   "cell_type": "code",
   "execution_count": 2,
   "metadata": {
    "scrolled": true
   },
   "outputs": [
    {
     "data": {
      "text/plain": [
       "<Figure size 640x480 with 1 Axes>"
      ]
     },
     "metadata": {},
     "output_type": "display_data"
    }
   ],
   "source": [
    "import matplotlib.pyplot as plt\n",
    "top,bottom = generatedata(rad,thk,sep,1000)\n",
    "\n",
    "X1 = [i[0] for i in top]\n",
    "Y1 = [i[1] for i in top]\n",
    "\n",
    "X2 = [i[0] for i in bottom]\n",
    "Y2 = [i[1] for i in bottom]\n",
    "\n",
    "plt.scatter(X1,Y1,s = 1)\n",
    "plt.scatter(X2,Y2,s = 1)\n",
    "plt.show()"
   ]
  },
  {
   "cell_type": "markdown",
   "metadata": {},
   "source": [
    "### Schuffling data"
   ]
  },
  {
   "cell_type": "code",
   "execution_count": 3,
   "metadata": {},
   "outputs": [],
   "source": [
    "# pre-processing the data for (a)\n",
    "x1 = [[1] + i + [1] for i in top]\n",
    "x2 = [[1] + i + [-1] for i in bottom]\n",
    "data = x1 + x2\n",
    "    \n",
    "data = np.array(data)\n",
    "np.random.shuffle(data)"
   ]
  },
  {
   "cell_type": "markdown",
   "metadata": {},
   "source": [
    "### PLA and Final hypothesis"
   ]
  },
  {
   "cell_type": "code",
   "execution_count": 4,
   "metadata": {},
   "outputs": [
    {
     "data": {
      "image/png": "[encoded data removed]",
      "text/plain": [
       "<Figure size 432x288 with 1 Axes>"
      ]
     },
     "metadata": {},
     "output_type": "display_data"
    }
   ],
   "source": [
    "import random\n",
    "\n",
    "def sign(x):\n",
    "    if x >= 0:\n",
    "        return 1\n",
    "    else:\n",
    "        return -1\n",
    "\n",
    "\n",
    "def Judge(x,w):\n",
    "    flag = 1\n",
    "    for i in x:\n",
    "        if sign(i[:3].dot(w))*i[-1] < 0:\n",
    "            flag = 0\n",
    "            break\n",
    "    return flag    \n",
    "\n",
    "#number of iterations\n",
    "s = 0\n",
    "#initilizew=[0,0]\n",
    "w=np.array([-1,0,-3],dtype = float)\n",
    "while (Judge(data,w) == 0):\n",
    "    i = data[random.randint(0,2*100-1)]\n",
    "    if sign(i[:3].dot(w))*i[-1]<0:\n",
    "        w += i[-1]*i[:3]\n",
    "        s += 1\n",
    "\n",
    "#w0+w1*x+w2*y=0\n",
    "X3=np.arange(-15,20,0.1)\n",
    "Y3=np.array([(X3[i]*w[1]+w[0])/(-w[2]) for i in range(len(X3))])\n",
    "\n",
    "#target function is x+y=0\n",
    "X4 = np.arange(-15,20,0.1)\n",
    "Y4 = - X4\n",
    "\n",
    "plt.scatter(X1,Y1,c = 'r',s = 1)\n",
    "plt.scatter(X2,Y2,c = 'b',s = 1)\n",
    "plt.plot(X3,Y3,'g')\n",
    "plt.plot(X4,Y4,'r')\n",
    "plt.title(\"after \"+str(s)+\" iterations\")\n",
    "#plt.legend()\n",
    "plt.show()"
   ]
  }
 ],
 "metadata": {
  "kernelspec": {
   "display_name": "Python 3",
   "language": "python",
   "name": "python3"
  },
  "language_info": {
   "codemirror_mode": {
    "name": "ipython",
    "version": 3
   },
   "file_extension": ".py",
   "mimetype": "text/x-python",
   "name": "python",
   "nbconvert_exporter": "python",
   "pygments_lexer": "ipython3",
   "version": "3.6.5"
  }
 },
 "nbformat": 4,
 "nbformat_minor": 2
}
